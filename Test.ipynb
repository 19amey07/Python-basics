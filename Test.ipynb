{
  "nbformat": 4,
  "nbformat_minor": 0,
  "metadata": {
    "colab": {
      "name": "Test.ipynb",
      "provenance": [],
      "collapsed_sections": [],
      "toc_visible": true
    },
    "kernelspec": {
      "name": "python3",
      "display_name": "Python 3"
    },
    "language_info": {
      "name": "python"
    },
    "accelerator": "GPU"
  },
  "cells": [
    {
      "cell_type": "code",
      "metadata": {
        "colab": {
          "base_uri": "https://localhost:8080/"
        },
        "id": "UScTcksCE9j3",
        "outputId": "e82bf431-1cbd-4eaf-9e99-baa4eeee9842"
      },
      "source": [
        "a=10\n",
        "b=50\n",
        "c=b*a\n",
        "c\n"
      ],
      "execution_count": null,
      "outputs": [
        {
          "output_type": "execute_result",
          "data": {
            "text/plain": [
              "500"
            ]
          },
          "metadata": {
            "tags": []
          },
          "execution_count": 2
        }
      ]
    },
    {
      "cell_type": "markdown",
      "metadata": {
        "id": "WrnC92JRHMIR"
      },
      "source": [
        "**CPU Information**"
      ]
    },
    {
      "cell_type": "code",
      "metadata": {
        "id": "sQPWzySvGKDD"
      },
      "source": [
        "cat/proc/cpuinfo"
      ],
      "execution_count": null,
      "outputs": []
    },
    {
      "cell_type": "markdown",
      "metadata": {
        "id": "85yLX0nNHQsk"
      },
      "source": [
        "**GPU Info**"
      ]
    },
    {
      "cell_type": "code",
      "metadata": {
        "id": "D7hCoT0GHU6p"
      },
      "source": [
        "!nvidia-smi"
      ],
      "execution_count": null,
      "outputs": []
    },
    {
      "cell_type": "code",
      "metadata": {
        "id": "JTFv-eMpHw-G"
      },
      "source": [
        "!free -h\n"
      ],
      "execution_count": null,
      "outputs": []
    },
    {
      "cell_type": "code",
      "metadata": {
        "id": "Z9VL8k6cNrKs"
      },
      "source": [
        "a,b,c,d = 5,25.3,\"Nagoba\", True\n",
        "print (a)\n",
        "print(type(a))\n",
        "print (b)\n",
        "print(type(b))\n",
        "print (c)\n",
        "print(type(c))\n",
        "print (d)\n",
        "print(type(d))"
      ],
      "execution_count": null,
      "outputs": []
    },
    {
      "cell_type": "code",
      "metadata": {
        "colab": {
          "base_uri": "https://localhost:8080/"
        },
        "id": "uzQJEhY-PSl6",
        "outputId": "957a2a7e-17e8-416e-b29d-ec7fd795d151"
      },
      "source": [
        "a=25\n",
        "b=100\n",
        "c=a+b\n",
        "d=b-a\n",
        "print(\"The sum is \"+ str(c) +\" and the difference is \"+ str(d))\n"
      ],
      "execution_count": null,
      "outputs": [
        {
          "output_type": "stream",
          "text": [
            "The sum is 125 and the difference is 75\n"
          ],
          "name": "stdout"
        }
      ]
    },
    {
      "cell_type": "code",
      "metadata": {
        "colab": {
          "base_uri": "https://localhost:8080/"
        },
        "id": "lrfLG8wURijf",
        "outputId": "867af37a-0e9e-40af-e475-4337c9850072"
      },
      "source": [
        "import random\n",
        "a= [0, 50, 75, 100, 125, 150, 300]\n",
        "b= random.choice(a)\n",
        "print(b)"
      ],
      "execution_count": null,
      "outputs": [
        {
          "output_type": "stream",
          "text": [
            "150\n"
          ],
          "name": "stdout"
        }
      ]
    },
    {
      "cell_type": "code",
      "metadata": {
        "colab": {
          "base_uri": "https://localhost:8080/"
        },
        "id": "zADXoiNBSd4q",
        "outputId": "4310030a-792c-495a-eb86-ed0eaf577414"
      },
      "source": [
        "if (b==0):\n",
        "  print (\"The number is \"+str(b))\n",
        "elif (b>0 and b<=100):\n",
        "  print (\"The number \"+ str(b)+\" is less than equal to 100\")\n",
        "elif (b>100 and b<=200):\n",
        "    print (\"The number \"+ str(b)+ \" is more than 100 or equal to 200\")\n",
        "else:\n",
        "  print (\"The number is greater than 200\")"
      ],
      "execution_count": null,
      "outputs": [
        {
          "output_type": "stream",
          "text": [
            "The number 150 is more than 100 or equal to 200\n"
          ],
          "name": "stdout"
        }
      ]
    }
  ]
}